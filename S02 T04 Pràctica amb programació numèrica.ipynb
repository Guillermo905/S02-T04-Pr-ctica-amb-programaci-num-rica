{
 "cells": [
  {
   "cell_type": "markdown",
   "id": "e4973e56",
   "metadata": {},
   "source": [
    "# Nivell 1\n",
    "\n",
    "## Exercici 1\n",
    "\n",
    "Crea una funció que donat un Array d’una dimensió, et faci un resum estadístic bàsic de les dades. Si detecta que l’array té més d’una dimensió, ha de mostrar un missatge d’error."
   ]
  },
  {
   "cell_type": "code",
   "execution_count": 2,
   "id": "73d5e904",
   "metadata": {},
   "outputs": [],
   "source": [
    "import numpy as np\n"
   ]
  },
  {
   "cell_type": "code",
   "execution_count": 4,
   "id": "5bb8302c",
   "metadata": {},
   "outputs": [
    {
     "name": "stdout",
     "output_type": "stream",
     "text": [
      "[0 1 2 3 4 5]\n",
      "La media es:  2.5\n",
      "La desviación estándar es:  1.707825127659933\n",
      "El rango intercuantilico es:  2.5\n",
      "El bigote inferior es:  -2.5\n",
      "El cuantil 25 es:  1.25\n",
      "La mediana es:  2.5\n",
      "El cuantil 75 es:  3.75\n",
      "El bigote superior es:  7.5\n"
     ]
    }
   ],
   "source": [
    "test = np.arange(6)\n",
    "\n",
    "def summary_array(x):\n",
    "    if np.ndim(x)==1:\n",
    "        print(\"La media es: \", np.mean(x))\n",
    "        print(\"La desviación estándar es: \", np.std(x))\n",
    "        print(\"Valor máximo: \", np.max(x))\n",
    "        print(\"Valor mínimo: \", no.min(x))\n",
    "        RIQ = np.quantile(x, 0.75) - np.quantile(x, 0.25)\n",
    "        print(\"El rango intercuantilico es: \", RIQ)\n",
    "        print(\"El bigote inferior es: \", np.quantile(x, 0.25)-(1.5*RIQ))\n",
    "        print(\"El cuantil 25 es: \", np.quantile(x, 0.25))\n",
    "        print(\"La mediana es: \", np.median(x))\n",
    "        print(\"El cuantil 75 es: \", np.quantile(x, 0.75))        \n",
    "        print(\"El bigote superior es: \", np.quantile(x, 0.75)+(1.5*RIQ))\n",
    "    else:\n",
    "        print(\"La matriz tiene que ser de una dimensión\")\n",
    " \n",
    "\n",
    "summary_array(test)"
   ]
  },
  {
   "cell_type": "markdown",
   "id": "c7ce8dba",
   "metadata": {},
   "source": [
    "## Exercici 2\n",
    "\n",
    "Crea una funció que et generi un quadrat NxN de nombres aleatoris entre el 0 i el 100."
   ]
  },
  {
   "cell_type": "code",
   "execution_count": 6,
   "id": "68014928",
   "metadata": {},
   "outputs": [
    {
     "name": "stdout",
     "output_type": "stream",
     "text": [
      "Introdueix un número per determinar el tamany de la matriu: 5\n",
      "[[61 66  7 57 69]\n",
      " [49 84 36 22 94]\n",
      " [16 56 61 11 98]\n",
      " [50 78 17 65 28]\n",
      " [20 10 25  8 95]]\n"
     ]
    }
   ],
   "source": [
    "def aleat():\n",
    "    x = int(input(\"Introdueix un número per determinar el tamany de la matriu: \"))\n",
    "    arr = np.random.randint(100, size=(x,x))\n",
    "    return arr\n",
    "\n",
    "arr = aleat()\n",
    "print(arr)"
   ]
  },
  {
   "cell_type": "markdown",
   "id": "da5eedb0",
   "metadata": {},
   "source": [
    "# Exercici 3\n",
    "\n",
    "Crea una funció que donada una taula de dues dimensions, et calculi els totals per fila i els totals per columna. "
   ]
  },
  {
   "cell_type": "code",
   "execution_count": 11,
   "id": "3d76e420",
   "metadata": {},
   "outputs": [
    {
     "name": "stdout",
     "output_type": "stream",
     "text": [
      "Introdueix un número per determinar el tamany de la matriu: 2\n",
      "[[44 20]\n",
      " [37 46]]\n",
      "Columnes: [81 66]\n",
      " files: [64 83]\n"
     ]
    },
    {
     "data": {
      "text/plain": [
       "(array([81, 66]), array([64, 83]))"
      ]
     },
     "execution_count": 11,
     "metadata": {},
     "output_type": "execute_result"
    }
   ],
   "source": [
    "arr = aleat()\n",
    "print(arr)\n",
    "\n",
    "def totals(x):\n",
    "    col = np.sum(x, axis = 0)\n",
    "    row = np.sum(x, axis = 1)\n",
    "    print(\"Columnes: {}\\n files: {}\".format(col, row))\n",
    "    return col,row\n",
    "\n",
    "totals(arr)"
   ]
  },
  {
   "cell_type": "markdown",
   "id": "ca8e909d",
   "metadata": {},
   "source": [
    "## Exercici 4\n",
    "\n",
    "Implementa manualment una funció que calculi el coeficient de correlació. Informa’t-en sobre els seus usos i interpretació.\n"
   ]
  },
  {
   "cell_type": "markdown",
   "id": "04d19845",
   "metadata": {},
   "source": [
    "El coeficient de correlació de Pearson, r, mostra la relació lineal que hi ha entre dues variables com pot ser l'alçada i el pes. Aquesta correlació pren valors entre 0 i 1, sent com més a prop de 1 millor correlació entre les dues variables. Mentre que si està més a prop de 0 vol dir que la relació entre les dues variables és molt feble. A més, si són valors negatius vol dir que són inversament proporcionals, mentre que si el valor és positiu vol dir que son directament proporcionals. Per obtenir aquesta correlació es fa a través del següent càlcul:\n",
    "\n",
    "$r_{xy} = \\frac{\\sum_{i=1}^{n} (x_i - \\bar{x}) (y_i - \\bar{y})}{(n-1)S_x·S_y}$\n",
    "\n",
    "Bibliografia: Shahbaba B. Biostatistics with R: An Introduction to Statistics Through Biological Data. 2012. Springer. pàg. 66 "
   ]
  },
  {
   "cell_type": "code",
   "execution_count": 3,
   "id": "37bb4dd9",
   "metadata": {},
   "outputs": [
    {
     "name": "stdout",
     "output_type": "stream",
     "text": [
      "[[ 2 38 17 22 14 43 43  4]\n",
      " [18 44 43 33 22 29 45 34]]\n"
     ]
    }
   ],
   "source": [
    "'''\n",
    "La funció treballarà amb una array de dos dimensions. On la primera fila\n",
    "es una variable x i la segona fila és una altre variable y\n",
    "'''\n",
    "\n",
    "dades = np.random.randint(50, size=(2,8))\n",
    "print(dades)\n",
    "len(dades[0,:])-1\n",
    "\n",
    "dades2 = np.array([[62,71,65,73,60],\n",
    "                  [160,198,173,182,143]])\n",
    "\n",
    "dades3 = np.array([[1,2,3,4],\n",
    "                  [1,2,3,4]])"
   ]
  },
  {
   "cell_type": "code",
   "execution_count": 7,
   "id": "8f3cb4ca",
   "metadata": {},
   "outputs": [],
   "source": [
    "def correlacio(matriu):\n",
    "    x = matriu[0,:]\n",
    "    y = matriu[1,:]\n",
    "    n = len(x)-1\n",
    "    x_mean = np.mean(x)\n",
    "    y_mean = np.mean(y)\n",
    "    sumP = 0\n",
    "    \n",
    "    for  con, (vx, vy) in enumerate(zip(x,y)):\n",
    "        produc = (vx-x_mean)*(vy-y_mean)\n",
    "        sumP = sumP + produc\n",
    "        \n",
    "    deno = n*np.std(x, ddof =1)*np.std(y, ddof = 1)\n",
    "    \n",
    "    corr = sumP/deno\n",
    "            \n",
    "    return corr\n",
    "        \n",
    "        \n",
    "    "
   ]
  },
  {
   "cell_type": "code",
   "execution_count": 8,
   "id": "6a54ce5e",
   "metadata": {},
   "outputs": [
    {
     "name": "stdout",
     "output_type": "stream",
     "text": [
      "1.0\n"
     ]
    }
   ],
   "source": [
    "print(correlacio(dades3))"
   ]
  },
  {
   "cell_type": "code",
   "execution_count": null,
   "id": "ee189b54",
   "metadata": {},
   "outputs": [],
   "source": []
  }
 ],
 "metadata": {
  "kernelspec": {
   "display_name": "Python 3 (ipykernel)",
   "language": "python",
   "name": "python3"
  },
  "language_info": {
   "codemirror_mode": {
    "name": "ipython",
    "version": 3
   },
   "file_extension": ".py",
   "mimetype": "text/x-python",
   "name": "python",
   "nbconvert_exporter": "python",
   "pygments_lexer": "ipython3",
   "version": "3.9.7"
  }
 },
 "nbformat": 4,
 "nbformat_minor": 5
}
